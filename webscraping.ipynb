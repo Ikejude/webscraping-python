{
 "cells": [
  {
   "attachments": {},
   "cell_type": "markdown",
   "metadata": {},
   "source": [
    "## Webscraping\n",
    "\n",
    "Web scraping in Python refers to the automated process of extracting information or data from websites. This is typically done by writing code that sends requests to a website and then parses the HTML or other structured data that is returned by the server in response to those requests.\n",
    "\n",
    "Python is a popular language for web scraping because it has a variety of libraries that make it easy to work with web pages, such as BeautifulSoup and Scrapy. These libraries can help automate the process of requesting and parsing web pages, allowing you to extract data quickly and efficiently.\n",
    "\n",
    "Web scraping can be used for a variety of purposes, such as gathering data for research or analysis, monitoring websites for changes, or building datasets for machine learning applications. However, it is important to note that web scraping can potentially be a violation of a website's terms of service or even illegal in some cases, so it is important to understand the legal and ethical implications of your actions before proceeding.\n",
    "\n",
    "Some of the python packages used for webscraping are `beautiful soup`, `selenium`, and `scrapy`. However, we shall use `BeautifulSoup` for this session.\n",
    "\n",
    "### Example 1:"
   ]
  },
  {
   "cell_type": "code",
   "execution_count": 1,
   "metadata": {},
   "outputs": [],
   "source": [
    "# Import Libraries\n",
    "import numpy as np\n",
    "import pandas as pd\n",
    "import matplotlib.pyplot as plt\n",
    "import seaborn as sns\n",
    "\n",
    "import json\n",
    "import re\n",
    "from bs4 import BeautifulSoup\n",
    "import lxml\n",
    "import requests, string, nbconvert\n",
    "\n",
    "%matplotlib inline"
   ]
  },
  {
   "cell_type": "code",
   "execution_count": 2,
   "metadata": {},
   "outputs": [
    {
     "data": {
      "text/plain": [
       "200"
      ]
     },
     "execution_count": 2,
     "metadata": {},
     "output_type": "execute_result"
    }
   ],
   "source": [
    "# Getting the url\n",
    "url = 'https://www.worlddata.info/africa/nigeria/inflation-rates.php'\n",
    "\n",
    "response = requests.get(url)\n",
    "\n",
    "# Getting the status code\n",
    "response.status_code"
   ]
  },
  {
   "cell_type": "code",
   "execution_count": 3,
   "metadata": {},
   "outputs": [
    {
     "data": {
      "text/plain": [
       "['Year', 'Nigeria', 'Ø EU', 'Ø USA', 'Ø World']"
      ]
     },
     "execution_count": 3,
     "metadata": {},
     "output_type": "execute_result"
    }
   ],
   "source": [
    "# Instantiate the soup object\n",
    "soup = BeautifulSoup(response.text,  'lxml')\n",
    "\n",
    "# Get the table object\n",
    "table = soup.find('table', class_ = 'std100 hover')\n",
    "\n",
    "# Get the column header\n",
    "col_head = [col.text.strip() for col in table.find_all('th')]\n",
    "col_head"
   ]
  },
  {
   "cell_type": "code",
   "execution_count": 4,
   "metadata": {},
   "outputs": [
    {
     "data": {
      "text/html": [
       "<div>\n",
       "<style scoped>\n",
       "    .dataframe tbody tr th:only-of-type {\n",
       "        vertical-align: middle;\n",
       "    }\n",
       "\n",
       "    .dataframe tbody tr th {\n",
       "        vertical-align: top;\n",
       "    }\n",
       "\n",
       "    .dataframe thead th {\n",
       "        text-align: right;\n",
       "    }\n",
       "</style>\n",
       "<table border=\"1\" class=\"dataframe\">\n",
       "  <thead>\n",
       "    <tr style=\"text-align: right;\">\n",
       "      <th></th>\n",
       "      <th>Year</th>\n",
       "      <th>Nigeria</th>\n",
       "      <th>Ø EU</th>\n",
       "      <th>Ø USA</th>\n",
       "      <th>Ø World</th>\n",
       "    </tr>\n",
       "  </thead>\n",
       "  <tbody>\n",
       "  </tbody>\n",
       "</table>\n",
       "</div>"
      ],
      "text/plain": [
       "Empty DataFrame\n",
       "Columns: [Year, Nigeria, Ø EU, Ø USA, Ø World]\n",
       "Index: []"
      ]
     },
     "execution_count": 4,
     "metadata": {},
     "output_type": "execute_result"
    }
   ],
   "source": [
    "# Get the column header into a dataframe\n",
    "df2 = pd.DataFrame(columns=col_head)\n",
    "df2"
   ]
  },
  {
   "cell_type": "code",
   "execution_count": 5,
   "metadata": {},
   "outputs": [
    {
     "data": {
      "text/html": [
       "<div>\n",
       "<style scoped>\n",
       "    .dataframe tbody tr th:only-of-type {\n",
       "        vertical-align: middle;\n",
       "    }\n",
       "\n",
       "    .dataframe tbody tr th {\n",
       "        vertical-align: top;\n",
       "    }\n",
       "\n",
       "    .dataframe thead th {\n",
       "        text-align: right;\n",
       "    }\n",
       "</style>\n",
       "<table border=\"1\" class=\"dataframe\">\n",
       "  <thead>\n",
       "    <tr style=\"text-align: right;\">\n",
       "      <th></th>\n",
       "      <th>Year</th>\n",
       "      <th>Nigeria</th>\n",
       "      <th>Ø EU</th>\n",
       "      <th>Ø USA</th>\n",
       "      <th>Ø World</th>\n",
       "    </tr>\n",
       "  </thead>\n",
       "  <tbody>\n",
       "    <tr>\n",
       "      <th>0</th>\n",
       "      <td>2021</td>\n",
       "      <td>16.95 %</td>\n",
       "      <td>2.55 %</td>\n",
       "      <td>4.70 %</td>\n",
       "      <td>3.50 %</td>\n",
       "    </tr>\n",
       "    <tr>\n",
       "      <th>1</th>\n",
       "      <td>2020</td>\n",
       "      <td>13.25 %</td>\n",
       "      <td>0.50 %</td>\n",
       "      <td>1.23 %</td>\n",
       "      <td>1.92 %</td>\n",
       "    </tr>\n",
       "    <tr>\n",
       "      <th>2</th>\n",
       "      <td>2019</td>\n",
       "      <td>11.40 %</td>\n",
       "      <td>1.63 %</td>\n",
       "      <td>1.81 %</td>\n",
       "      <td>2.19 %</td>\n",
       "    </tr>\n",
       "    <tr>\n",
       "      <th>3</th>\n",
       "      <td>2018</td>\n",
       "      <td>12.09 %</td>\n",
       "      <td>1.74 %</td>\n",
       "      <td>2.44 %</td>\n",
       "      <td>2.44 %</td>\n",
       "    </tr>\n",
       "    <tr>\n",
       "      <th>4</th>\n",
       "      <td>2017</td>\n",
       "      <td>16.52 %</td>\n",
       "      <td>1.43 %</td>\n",
       "      <td>2.13 %</td>\n",
       "      <td>2.19 %</td>\n",
       "    </tr>\n",
       "    <tr>\n",
       "      <th>...</th>\n",
       "      <td>...</td>\n",
       "      <td>...</td>\n",
       "      <td>...</td>\n",
       "      <td>...</td>\n",
       "      <td>...</td>\n",
       "    </tr>\n",
       "    <tr>\n",
       "      <th>57</th>\n",
       "      <td>1964</td>\n",
       "      <td>0.86 %</td>\n",
       "      <td>3.42 %</td>\n",
       "      <td>1.28 %</td>\n",
       "      <td>n/a</td>\n",
       "    </tr>\n",
       "    <tr>\n",
       "      <th>58</th>\n",
       "      <td>1963</td>\n",
       "      <td>-2.69 %</td>\n",
       "      <td>2.92 %</td>\n",
       "      <td>1.24 %</td>\n",
       "      <td>n/a</td>\n",
       "    </tr>\n",
       "    <tr>\n",
       "      <th>59</th>\n",
       "      <td>1962</td>\n",
       "      <td>5.27 %</td>\n",
       "      <td>3.55 %</td>\n",
       "      <td>1.20 %</td>\n",
       "      <td>n/a</td>\n",
       "    </tr>\n",
       "    <tr>\n",
       "      <th>60</th>\n",
       "      <td>1961</td>\n",
       "      <td>6.28 %</td>\n",
       "      <td>2.08 %</td>\n",
       "      <td>1.07 %</td>\n",
       "      <td>n/a</td>\n",
       "    </tr>\n",
       "    <tr>\n",
       "      <th>61</th>\n",
       "      <td>1960</td>\n",
       "      <td>5.44 %</td>\n",
       "      <td>1.74 %</td>\n",
       "      <td>1.46 %</td>\n",
       "      <td>n/a</td>\n",
       "    </tr>\n",
       "  </tbody>\n",
       "</table>\n",
       "<p>62 rows × 5 columns</p>\n",
       "</div>"
      ],
      "text/plain": [
       "    Year  Nigeria    Ø EU   Ø USA Ø World\n",
       "0   2021  16.95 %  2.55 %  4.70 %  3.50 %\n",
       "1   2020  13.25 %  0.50 %  1.23 %  1.92 %\n",
       "2   2019  11.40 %  1.63 %  1.81 %  2.19 %\n",
       "3   2018  12.09 %  1.74 %  2.44 %  2.44 %\n",
       "4   2017  16.52 %  1.43 %  2.13 %  2.19 %\n",
       "..   ...      ...     ...     ...     ...\n",
       "57  1964   0.86 %  3.42 %  1.28 %     n/a\n",
       "58  1963  -2.69 %  2.92 %  1.24 %     n/a\n",
       "59  1962   5.27 %  3.55 %  1.20 %     n/a\n",
       "60  1961   6.28 %  2.08 %  1.07 %     n/a\n",
       "61  1960   5.44 %  1.74 %  1.46 %     n/a\n",
       "\n",
       "[62 rows x 5 columns]"
      ]
     },
     "execution_count": 5,
     "metadata": {},
     "output_type": "execute_result"
    }
   ],
   "source": [
    "# Get the row data\n",
    "for row in table.find_all('tr')[1:]:\n",
    "    datapoint = [td.text.strip() for td in row.find_all('td')]\n",
    "\n",
    "    # Assign the table rows to the dataframe\n",
    "    df2.loc[len(df2)] = datapoint\n",
    "\n",
    "# Investigate the dataframe\n",
    "df2"
   ]
  },
  {
   "cell_type": "code",
   "execution_count": 6,
   "metadata": {},
   "outputs": [],
   "source": [
    "# Save the dataset\n",
    "\n",
    "df2.to_csv('worlddata.csv', index=False)"
   ]
  },
  {
   "attachments": {},
   "cell_type": "markdown",
   "metadata": {},
   "source": [
    "### Example 2: Webscraping Github Account"
   ]
  },
  {
   "cell_type": "code",
   "execution_count": 7,
   "metadata": {},
   "outputs": [
    {
     "data": {
      "text/plain": [
       "200"
      ]
     },
     "execution_count": 7,
     "metadata": {},
     "output_type": "execute_result"
    }
   ],
   "source": [
    "# Webscraping data from github\n",
    "url = 'https://github.com/Codecademy/datasets/blob/master/streeteasy/streeteasy.csv'\n",
    "\n",
    "response = requests.get(url)\n",
    "response.status_code"
   ]
  },
  {
   "cell_type": "code",
   "execution_count": 8,
   "metadata": {},
   "outputs": [
    {
     "data": {
      "text/plain": [
       "['rental_id',\n",
       " 'building_id',\n",
       " 'rent',\n",
       " 'bedrooms',\n",
       " 'bathrooms',\n",
       " 'size_sqft',\n",
       " 'min_to_subway',\n",
       " 'floor',\n",
       " 'building_age_yrs',\n",
       " 'no_fee',\n",
       " 'has_roofdeck',\n",
       " 'has_washer_dryer',\n",
       " 'has_doorman',\n",
       " 'has_elevator',\n",
       " 'has_dishwasher',\n",
       " 'has_patio',\n",
       " 'has_gym',\n",
       " 'neighborhood',\n",
       " 'submarket',\n",
       " 'borough']"
      ]
     },
     "execution_count": 8,
     "metadata": {},
     "output_type": "execute_result"
    }
   ],
   "source": [
    "# Instantiate the soup object\n",
    "soup = BeautifulSoup(response.text, 'lxml')\n",
    "\n",
    "# Get the table object\n",
    "table = soup.find('table', class_ = 'js-csv-data csv-data js-file-line-container')\n",
    "\n",
    "# Get the column header\n",
    "col_head = [col.text.strip() for col in table.find_all('th')]\n",
    "col_head"
   ]
  },
  {
   "cell_type": "code",
   "execution_count": 9,
   "metadata": {},
   "outputs": [
    {
     "data": {
      "text/html": [
       "<div>\n",
       "<style scoped>\n",
       "    .dataframe tbody tr th:only-of-type {\n",
       "        vertical-align: middle;\n",
       "    }\n",
       "\n",
       "    .dataframe tbody tr th {\n",
       "        vertical-align: top;\n",
       "    }\n",
       "\n",
       "    .dataframe thead th {\n",
       "        text-align: right;\n",
       "    }\n",
       "</style>\n",
       "<table border=\"1\" class=\"dataframe\">\n",
       "  <thead>\n",
       "    <tr style=\"text-align: right;\">\n",
       "      <th></th>\n",
       "      <th>rental_id</th>\n",
       "      <th>building_id</th>\n",
       "      <th>rent</th>\n",
       "      <th>bedrooms</th>\n",
       "      <th>bathrooms</th>\n",
       "      <th>size_sqft</th>\n",
       "      <th>min_to_subway</th>\n",
       "      <th>floor</th>\n",
       "      <th>building_age_yrs</th>\n",
       "      <th>no_fee</th>\n",
       "      <th>has_roofdeck</th>\n",
       "      <th>has_washer_dryer</th>\n",
       "      <th>has_doorman</th>\n",
       "      <th>has_elevator</th>\n",
       "      <th>has_dishwasher</th>\n",
       "      <th>has_patio</th>\n",
       "      <th>has_gym</th>\n",
       "      <th>neighborhood</th>\n",
       "      <th>submarket</th>\n",
       "      <th>borough</th>\n",
       "    </tr>\n",
       "  </thead>\n",
       "  <tbody>\n",
       "  </tbody>\n",
       "</table>\n",
       "</div>"
      ],
      "text/plain": [
       "Empty DataFrame\n",
       "Columns: [rental_id, building_id, rent, bedrooms, bathrooms, size_sqft, min_to_subway, floor, building_age_yrs, no_fee, has_roofdeck, has_washer_dryer, has_doorman, has_elevator, has_dishwasher, has_patio, has_gym, neighborhood, submarket, borough]\n",
       "Index: []"
      ]
     },
     "execution_count": 9,
     "metadata": {},
     "output_type": "execute_result"
    }
   ],
   "source": [
    "# Put columns to dataframe\n",
    "data_ = pd.DataFrame(columns=col_head)\n",
    "data_"
   ]
  },
  {
   "cell_type": "code",
   "execution_count": 10,
   "metadata": {},
   "outputs": [
    {
     "data": {
      "text/plain": [
       "20"
      ]
     },
     "execution_count": 10,
     "metadata": {},
     "output_type": "execute_result"
    }
   ],
   "source": [
    "# check the number of columns\n",
    "len(data_.columns)"
   ]
  },
  {
   "cell_type": "code",
   "execution_count": 11,
   "metadata": {},
   "outputs": [
    {
     "data": {
      "text/html": [
       "<div>\n",
       "<style scoped>\n",
       "    .dataframe tbody tr th:only-of-type {\n",
       "        vertical-align: middle;\n",
       "    }\n",
       "\n",
       "    .dataframe tbody tr th {\n",
       "        vertical-align: top;\n",
       "    }\n",
       "\n",
       "    .dataframe thead th {\n",
       "        text-align: right;\n",
       "    }\n",
       "</style>\n",
       "<table border=\"1\" class=\"dataframe\">\n",
       "  <thead>\n",
       "    <tr style=\"text-align: right;\">\n",
       "      <th></th>\n",
       "      <th>rental_id</th>\n",
       "      <th>building_id</th>\n",
       "      <th>rent</th>\n",
       "      <th>bedrooms</th>\n",
       "      <th>bathrooms</th>\n",
       "      <th>size_sqft</th>\n",
       "      <th>min_to_subway</th>\n",
       "      <th>floor</th>\n",
       "      <th>building_age_yrs</th>\n",
       "      <th>no_fee</th>\n",
       "      <th>has_roofdeck</th>\n",
       "      <th>has_washer_dryer</th>\n",
       "      <th>has_doorman</th>\n",
       "      <th>has_elevator</th>\n",
       "      <th>has_dishwasher</th>\n",
       "      <th>has_patio</th>\n",
       "      <th>has_gym</th>\n",
       "      <th>neighborhood</th>\n",
       "      <th>submarket</th>\n",
       "      <th>borough</th>\n",
       "    </tr>\n",
       "  </thead>\n",
       "  <tbody>\n",
       "    <tr>\n",
       "      <th>0</th>\n",
       "      <td>1545</td>\n",
       "      <td>44518357</td>\n",
       "      <td>2550</td>\n",
       "      <td>0</td>\n",
       "      <td>1</td>\n",
       "      <td>480</td>\n",
       "      <td>9</td>\n",
       "      <td>2</td>\n",
       "      <td>17</td>\n",
       "      <td>1</td>\n",
       "      <td>1</td>\n",
       "      <td>0</td>\n",
       "      <td>0</td>\n",
       "      <td>1</td>\n",
       "      <td>1</td>\n",
       "      <td>0</td>\n",
       "      <td>1</td>\n",
       "      <td>Upper East Side</td>\n",
       "      <td>All Upper East Side</td>\n",
       "      <td>Manhattan</td>\n",
       "    </tr>\n",
       "    <tr>\n",
       "      <th>1</th>\n",
       "      <td>2472</td>\n",
       "      <td>94441623</td>\n",
       "      <td>11500</td>\n",
       "      <td>2</td>\n",
       "      <td>2</td>\n",
       "      <td>2000</td>\n",
       "      <td>4</td>\n",
       "      <td>1</td>\n",
       "      <td>96</td>\n",
       "      <td>0</td>\n",
       "      <td>0</td>\n",
       "      <td>0</td>\n",
       "      <td>0</td>\n",
       "      <td>0</td>\n",
       "      <td>0</td>\n",
       "      <td>0</td>\n",
       "      <td>0</td>\n",
       "      <td>Greenwich Village</td>\n",
       "      <td>All Downtown</td>\n",
       "      <td>Manhattan</td>\n",
       "    </tr>\n",
       "    <tr>\n",
       "      <th>2</th>\n",
       "      <td>10234</td>\n",
       "      <td>87632265</td>\n",
       "      <td>3000</td>\n",
       "      <td>3</td>\n",
       "      <td>1</td>\n",
       "      <td>1000</td>\n",
       "      <td>4</td>\n",
       "      <td>1</td>\n",
       "      <td>106</td>\n",
       "      <td>0</td>\n",
       "      <td>0</td>\n",
       "      <td>0</td>\n",
       "      <td>0</td>\n",
       "      <td>0</td>\n",
       "      <td>0</td>\n",
       "      <td>0</td>\n",
       "      <td>0</td>\n",
       "      <td>Astoria</td>\n",
       "      <td>Northwest Queens</td>\n",
       "      <td>Queens</td>\n",
       "    </tr>\n",
       "    <tr>\n",
       "      <th>3</th>\n",
       "      <td>2919</td>\n",
       "      <td>76909719</td>\n",
       "      <td>4500</td>\n",
       "      <td>1</td>\n",
       "      <td>1</td>\n",
       "      <td>916</td>\n",
       "      <td>2</td>\n",
       "      <td>51</td>\n",
       "      <td>29</td>\n",
       "      <td>0</td>\n",
       "      <td>1</td>\n",
       "      <td>0</td>\n",
       "      <td>1</td>\n",
       "      <td>1</td>\n",
       "      <td>1</td>\n",
       "      <td>0</td>\n",
       "      <td>0</td>\n",
       "      <td>Midtown</td>\n",
       "      <td>All Midtown</td>\n",
       "      <td>Manhattan</td>\n",
       "    </tr>\n",
       "    <tr>\n",
       "      <th>4</th>\n",
       "      <td>2790</td>\n",
       "      <td>92953520</td>\n",
       "      <td>4795</td>\n",
       "      <td>1</td>\n",
       "      <td>1</td>\n",
       "      <td>975</td>\n",
       "      <td>3</td>\n",
       "      <td>8</td>\n",
       "      <td>31</td>\n",
       "      <td>0</td>\n",
       "      <td>0</td>\n",
       "      <td>0</td>\n",
       "      <td>1</td>\n",
       "      <td>1</td>\n",
       "      <td>1</td>\n",
       "      <td>0</td>\n",
       "      <td>1</td>\n",
       "      <td>Greenwich Village</td>\n",
       "      <td>All Downtown</td>\n",
       "      <td>Manhattan</td>\n",
       "    </tr>\n",
       "  </tbody>\n",
       "</table>\n",
       "</div>"
      ],
      "text/plain": [
       "  rental_id building_id   rent bedrooms bathrooms size_sqft min_to_subway  \\\n",
       "0      1545    44518357   2550        0         1       480             9   \n",
       "1      2472    94441623  11500        2         2      2000             4   \n",
       "2     10234    87632265   3000        3         1      1000             4   \n",
       "3      2919    76909719   4500        1         1       916             2   \n",
       "4      2790    92953520   4795        1         1       975             3   \n",
       "\n",
       "  floor building_age_yrs no_fee has_roofdeck has_washer_dryer has_doorman  \\\n",
       "0     2               17      1            1                0           0   \n",
       "1     1               96      0            0                0           0   \n",
       "2     1              106      0            0                0           0   \n",
       "3    51               29      0            1                0           1   \n",
       "4     8               31      0            0                0           1   \n",
       "\n",
       "  has_elevator has_dishwasher has_patio has_gym       neighborhood  \\\n",
       "0            1              1         0       1    Upper East Side   \n",
       "1            0              0         0       0  Greenwich Village   \n",
       "2            0              0         0       0            Astoria   \n",
       "3            1              1         0       0            Midtown   \n",
       "4            1              1         0       1  Greenwich Village   \n",
       "\n",
       "             submarket    borough  \n",
       "0  All Upper East Side  Manhattan  \n",
       "1         All Downtown  Manhattan  \n",
       "2     Northwest Queens     Queens  \n",
       "3          All Midtown  Manhattan  \n",
       "4         All Downtown  Manhattan  "
      ]
     },
     "execution_count": 11,
     "metadata": {},
     "output_type": "execute_result"
    }
   ],
   "source": [
    "# Get the row data\n",
    "for row in table.find_all('tr')[1:]:\n",
    "    obser = [td.text.strip() for td in row.find_all('td')]\n",
    "    # Deleting empty column from the rows\n",
    "    del obser[0] \n",
    "\n",
    "    # Attach the row data to the dataframe\n",
    "    data_.loc[len(data_)] = obser\n",
    "\n",
    "# View the dataframe\n",
    "data_.head()"
   ]
  },
  {
   "attachments": {},
   "cell_type": "markdown",
   "metadata": {},
   "source": [
    "### Example 3: Webscraping Nigeria Inflation Rate"
   ]
  },
  {
   "cell_type": "code",
   "execution_count": 12,
   "metadata": {},
   "outputs": [
    {
     "data": {
      "text/plain": [
       "200"
      ]
     },
     "execution_count": 12,
     "metadata": {},
     "output_type": "execute_result"
    }
   ],
   "source": [
    "# Getting the url\n",
    "url = 'https://www.worlddata.info/africa/nigeria/inflation-rates.php'\n",
    "\n",
    "response = requests.get(url)\n",
    "\n",
    "# Getting the status code\n",
    "response.status_code"
   ]
  },
  {
   "cell_type": "code",
   "execution_count": 13,
   "metadata": {},
   "outputs": [
    {
     "data": {
      "text/html": [
       "<div>\n",
       "<style scoped>\n",
       "    .dataframe tbody tr th:only-of-type {\n",
       "        vertical-align: middle;\n",
       "    }\n",
       "\n",
       "    .dataframe tbody tr th {\n",
       "        vertical-align: top;\n",
       "    }\n",
       "\n",
       "    .dataframe thead th {\n",
       "        text-align: right;\n",
       "    }\n",
       "</style>\n",
       "<table border=\"1\" class=\"dataframe\">\n",
       "  <thead>\n",
       "    <tr style=\"text-align: right;\">\n",
       "      <th></th>\n",
       "      <th>Year</th>\n",
       "      <th>Nigeria</th>\n",
       "      <th>Ø EU</th>\n",
       "      <th>Ø USA</th>\n",
       "      <th>Ø World</th>\n",
       "    </tr>\n",
       "  </thead>\n",
       "  <tbody>\n",
       "    <tr>\n",
       "      <th>0</th>\n",
       "      <td>2021</td>\n",
       "      <td>16.95 %</td>\n",
       "      <td>2.55 %</td>\n",
       "      <td>4.70 %</td>\n",
       "      <td>3.50 %</td>\n",
       "    </tr>\n",
       "    <tr>\n",
       "      <th>1</th>\n",
       "      <td>2020</td>\n",
       "      <td>13.25 %</td>\n",
       "      <td>0.50 %</td>\n",
       "      <td>1.23 %</td>\n",
       "      <td>1.92 %</td>\n",
       "    </tr>\n",
       "    <tr>\n",
       "      <th>2</th>\n",
       "      <td>2019</td>\n",
       "      <td>11.40 %</td>\n",
       "      <td>1.63 %</td>\n",
       "      <td>1.81 %</td>\n",
       "      <td>2.19 %</td>\n",
       "    </tr>\n",
       "    <tr>\n",
       "      <th>3</th>\n",
       "      <td>2018</td>\n",
       "      <td>12.09 %</td>\n",
       "      <td>1.74 %</td>\n",
       "      <td>2.44 %</td>\n",
       "      <td>2.44 %</td>\n",
       "    </tr>\n",
       "    <tr>\n",
       "      <th>4</th>\n",
       "      <td>2017</td>\n",
       "      <td>16.52 %</td>\n",
       "      <td>1.43 %</td>\n",
       "      <td>2.13 %</td>\n",
       "      <td>2.19 %</td>\n",
       "    </tr>\n",
       "    <tr>\n",
       "      <th>...</th>\n",
       "      <td>...</td>\n",
       "      <td>...</td>\n",
       "      <td>...</td>\n",
       "      <td>...</td>\n",
       "      <td>...</td>\n",
       "    </tr>\n",
       "    <tr>\n",
       "      <th>57</th>\n",
       "      <td>1964</td>\n",
       "      <td>0.86 %</td>\n",
       "      <td>3.42 %</td>\n",
       "      <td>1.28 %</td>\n",
       "      <td>n/a</td>\n",
       "    </tr>\n",
       "    <tr>\n",
       "      <th>58</th>\n",
       "      <td>1963</td>\n",
       "      <td>-2.69 %</td>\n",
       "      <td>2.92 %</td>\n",
       "      <td>1.24 %</td>\n",
       "      <td>n/a</td>\n",
       "    </tr>\n",
       "    <tr>\n",
       "      <th>59</th>\n",
       "      <td>1962</td>\n",
       "      <td>5.27 %</td>\n",
       "      <td>3.55 %</td>\n",
       "      <td>1.20 %</td>\n",
       "      <td>n/a</td>\n",
       "    </tr>\n",
       "    <tr>\n",
       "      <th>60</th>\n",
       "      <td>1961</td>\n",
       "      <td>6.28 %</td>\n",
       "      <td>2.08 %</td>\n",
       "      <td>1.07 %</td>\n",
       "      <td>n/a</td>\n",
       "    </tr>\n",
       "    <tr>\n",
       "      <th>61</th>\n",
       "      <td>1960</td>\n",
       "      <td>5.44 %</td>\n",
       "      <td>1.74 %</td>\n",
       "      <td>1.46 %</td>\n",
       "      <td>n/a</td>\n",
       "    </tr>\n",
       "  </tbody>\n",
       "</table>\n",
       "<p>62 rows × 5 columns</p>\n",
       "</div>"
      ],
      "text/plain": [
       "    Year  Nigeria    Ø EU   Ø USA Ø World\n",
       "0   2021  16.95 %  2.55 %  4.70 %  3.50 %\n",
       "1   2020  13.25 %  0.50 %  1.23 %  1.92 %\n",
       "2   2019  11.40 %  1.63 %  1.81 %  2.19 %\n",
       "3   2018  12.09 %  1.74 %  2.44 %  2.44 %\n",
       "4   2017  16.52 %  1.43 %  2.13 %  2.19 %\n",
       "..   ...      ...     ...     ...     ...\n",
       "57  1964   0.86 %  3.42 %  1.28 %     n/a\n",
       "58  1963  -2.69 %  2.92 %  1.24 %     n/a\n",
       "59  1962   5.27 %  3.55 %  1.20 %     n/a\n",
       "60  1961   6.28 %  2.08 %  1.07 %     n/a\n",
       "61  1960   5.44 %  1.74 %  1.46 %     n/a\n",
       "\n",
       "[62 rows x 5 columns]"
      ]
     },
     "execution_count": 13,
     "metadata": {},
     "output_type": "execute_result"
    }
   ],
   "source": [
    "# Instantiate the soup object\n",
    "soup = BeautifulSoup(response.text, 'lxml')\n",
    "\n",
    "# Get the table object\n",
    "table = soup.find('table', class_ = 'std100 hover')\n",
    "\n",
    "# Get the column header\n",
    "col_head = [col.text.strip() for col in table.find_all('th')]\n",
    "col_head\n",
    "\n",
    "# Put columns to dataframe\n",
    "data_ = pd.DataFrame(columns=col_head)\n",
    "\n",
    "# Get the row data\n",
    "for row in table.find_all('tr')[1:]:\n",
    "    obser = [td.text.strip() for td in row.find_all('td')]\n",
    "    data_.loc[len(data_)] = obser\n",
    "\n",
    "data_"
   ]
  },
  {
   "attachments": {},
   "cell_type": "markdown",
   "metadata": {},
   "source": [
    "### Example 4: Webscraping Nigeria Exchange Rate"
   ]
  },
  {
   "cell_type": "code",
   "execution_count": 15,
   "metadata": {},
   "outputs": [
    {
     "data": {
      "text/plain": [
       "200"
      ]
     },
     "execution_count": 15,
     "metadata": {},
     "output_type": "execute_result"
    }
   ],
   "source": [
    "# Getting the url\n",
    "url = 'https://www.indexmundi.com/facts/nigeria/official-exchange-rate'\n",
    "\n",
    "response = requests.get(url)\n",
    "\n",
    "# Getting the status code\n",
    "response.status_code"
   ]
  },
  {
   "cell_type": "code",
   "execution_count": 16,
   "metadata": {},
   "outputs": [
    {
     "name": "stdout",
     "output_type": "stream",
     "text": [
      "   Year Value\n",
      "0  1960  0.71\n",
      "1  1961  0.71\n",
      "2  1962  0.71\n",
      "3  1963  0.71\n",
      "4  1964  0.71\n"
     ]
    }
   ],
   "source": [
    "# Instantiate the soup object\n",
    "soup = BeautifulSoup(response.text, 'lxml')\n",
    "\n",
    "# Get the table object\n",
    "table = soup.find('table')\n",
    "\n",
    "# Get the column header\n",
    "col_head = [col.text.strip() for col in table.find_all('th')]\n",
    "col_head\n",
    "\n",
    "# Put columns to dataframe\n",
    "data_ = pd.DataFrame(columns=col_head)\n",
    "\n",
    "# Get the row data\n",
    "for row in table.find_all('tr')[1:]:\n",
    "    obser = [td.text.strip() for td in row.find_all('td')]\n",
    "    data_.loc[len(data_)] = obser\n",
    "\n",
    "print(data_.head())\n",
    "\n",
    "# Save dataframe\n",
    "data_.to_csv('Real_Exchange_Rate.csv', index=False)"
   ]
  },
  {
   "attachments": {},
   "cell_type": "markdown",
   "metadata": {},
   "source": [
    "### Example 5: Scrape Exchange Rate dataset\n"
   ]
  },
  {
   "cell_type": "code",
   "execution_count": 2,
   "metadata": {},
   "outputs": [
    {
     "data": {
      "text/plain": [
       "200"
      ]
     },
     "execution_count": 2,
     "metadata": {},
     "output_type": "execute_result"
    }
   ],
   "source": [
    "# Webscraping data from internet\n",
    "url = 'https://infomediang.com/cbn-exchange-rate/'\n",
    "\n",
    "# Getting response variable\n",
    "resp = requests.get(url)\n",
    "# Checking connection status\n",
    "resp.status_code\n"
   ]
  },
  {
   "cell_type": "code",
   "execution_count": 3,
   "metadata": {},
   "outputs": [
    {
     "data": {
      "text/plain": [
       "['YEAR (DATE)', 'DOLLAR TO NAIRA']"
      ]
     },
     "execution_count": 3,
     "metadata": {},
     "output_type": "execute_result"
    }
   ],
   "source": [
    "# Getting soup instance\n",
    "soup = BeautifulSoup(resp.text, 'lxml')\n",
    "# Getting the necessary tables\n",
    "tab1 = soup.find_all('table')[2]\n",
    "# Getting the table header\n",
    "col_hd = [i.text.strip() for i in tab1.find_all('tr')[0]]\n",
    "# Checking column header\n",
    "col_hd"
   ]
  },
  {
   "cell_type": "code",
   "execution_count": 4,
   "metadata": {},
   "outputs": [
    {
     "data": {
      "text/html": [
       "<div>\n",
       "<style scoped>\n",
       "    .dataframe tbody tr th:only-of-type {\n",
       "        vertical-align: middle;\n",
       "    }\n",
       "\n",
       "    .dataframe tbody tr th {\n",
       "        vertical-align: top;\n",
       "    }\n",
       "\n",
       "    .dataframe thead th {\n",
       "        text-align: right;\n",
       "    }\n",
       "</style>\n",
       "<table border=\"1\" class=\"dataframe\">\n",
       "  <thead>\n",
       "    <tr style=\"text-align: right;\">\n",
       "      <th></th>\n",
       "      <th>YEAR (DATE)</th>\n",
       "      <th>DOLLAR TO NAIRA</th>\n",
       "    </tr>\n",
       "  </thead>\n",
       "  <tbody>\n",
       "  </tbody>\n",
       "</table>\n",
       "</div>"
      ],
      "text/plain": [
       "Empty DataFrame\n",
       "Columns: [YEAR (DATE), DOLLAR TO NAIRA]\n",
       "Index: []"
      ]
     },
     "execution_count": 4,
     "metadata": {},
     "output_type": "execute_result"
    }
   ],
   "source": [
    "# Putting column header to dataframe\n",
    "dfr1 = pd.DataFrame(columns=col_hd)\n",
    "dfr1"
   ]
  },
  {
   "cell_type": "code",
   "execution_count": 5,
   "metadata": {},
   "outputs": [
    {
     "data": {
      "text/html": [
       "<div>\n",
       "<style scoped>\n",
       "    .dataframe tbody tr th:only-of-type {\n",
       "        vertical-align: middle;\n",
       "    }\n",
       "\n",
       "    .dataframe tbody tr th {\n",
       "        vertical-align: top;\n",
       "    }\n",
       "\n",
       "    .dataframe thead th {\n",
       "        text-align: right;\n",
       "    }\n",
       "</style>\n",
       "<table border=\"1\" class=\"dataframe\">\n",
       "  <thead>\n",
       "    <tr style=\"text-align: right;\">\n",
       "      <th></th>\n",
       "      <th>YEAR (DATE)</th>\n",
       "      <th>DOLLAR TO NAIRA</th>\n",
       "    </tr>\n",
       "  </thead>\n",
       "  <tbody>\n",
       "    <tr>\n",
       "      <th>0</th>\n",
       "      <td>1984</td>\n",
       "      <td>$1 = N0.765</td>\n",
       "    </tr>\n",
       "    <tr>\n",
       "      <th>1</th>\n",
       "      <td>1985</td>\n",
       "      <td>$1 = N0.894</td>\n",
       "    </tr>\n",
       "    <tr>\n",
       "      <th>2</th>\n",
       "      <td>1986</td>\n",
       "      <td>$1 = N2.02</td>\n",
       "    </tr>\n",
       "    <tr>\n",
       "      <th>3</th>\n",
       "      <td>1987</td>\n",
       "      <td>$1 = N4.02</td>\n",
       "    </tr>\n",
       "    <tr>\n",
       "      <th>4</th>\n",
       "      <td>1988</td>\n",
       "      <td>$1 = N4.54</td>\n",
       "    </tr>\n",
       "  </tbody>\n",
       "</table>\n",
       "</div>"
      ],
      "text/plain": [
       "  YEAR (DATE) DOLLAR TO NAIRA\n",
       "0        1984     $1 = N0.765\n",
       "1        1985     $1 = N0.894\n",
       "2        1986      $1 = N2.02\n",
       "3        1987      $1 = N4.02\n",
       "4        1988      $1 = N4.54"
      ]
     },
     "execution_count": 5,
     "metadata": {},
     "output_type": "execute_result"
    }
   ],
   "source": [
    "# Getting the rows of the table and joining to dataframe\n",
    "for row in tab1.find_all('tr')[1:]:\n",
    "    obs = [i.text.strip() for i in row.find_all('td')]\n",
    "    dfr1.loc[len(dfr1)] = obs\n",
    "\n",
    "# Checking dataframe \n",
    "dfr1.head()"
   ]
  },
  {
   "cell_type": "code",
   "execution_count": 6,
   "metadata": {},
   "outputs": [
    {
     "data": {
      "text/html": [
       "<div>\n",
       "<style scoped>\n",
       "    .dataframe tbody tr th:only-of-type {\n",
       "        vertical-align: middle;\n",
       "    }\n",
       "\n",
       "    .dataframe tbody tr th {\n",
       "        vertical-align: top;\n",
       "    }\n",
       "\n",
       "    .dataframe thead th {\n",
       "        text-align: right;\n",
       "    }\n",
       "</style>\n",
       "<table border=\"1\" class=\"dataframe\">\n",
       "  <thead>\n",
       "    <tr style=\"text-align: right;\">\n",
       "      <th></th>\n",
       "      <th>Year</th>\n",
       "      <th>Exchange(N/$)</th>\n",
       "    </tr>\n",
       "  </thead>\n",
       "  <tbody>\n",
       "    <tr>\n",
       "      <th>0</th>\n",
       "      <td>1984</td>\n",
       "      <td>$1 = N0.765</td>\n",
       "    </tr>\n",
       "    <tr>\n",
       "      <th>1</th>\n",
       "      <td>1985</td>\n",
       "      <td>$1 = N0.894</td>\n",
       "    </tr>\n",
       "    <tr>\n",
       "      <th>2</th>\n",
       "      <td>1986</td>\n",
       "      <td>$1 = N2.02</td>\n",
       "    </tr>\n",
       "    <tr>\n",
       "      <th>3</th>\n",
       "      <td>1987</td>\n",
       "      <td>$1 = N4.02</td>\n",
       "    </tr>\n",
       "    <tr>\n",
       "      <th>4</th>\n",
       "      <td>1988</td>\n",
       "      <td>$1 = N4.54</td>\n",
       "    </tr>\n",
       "  </tbody>\n",
       "</table>\n",
       "</div>"
      ],
      "text/plain": [
       "   Year Exchange(N/$)\n",
       "0  1984   $1 = N0.765\n",
       "1  1985   $1 = N0.894\n",
       "2  1986    $1 = N2.02\n",
       "3  1987    $1 = N4.02\n",
       "4  1988    $1 = N4.54"
      ]
     },
     "execution_count": 6,
     "metadata": {},
     "output_type": "execute_result"
    }
   ],
   "source": [
    "# Renaming column\n",
    "dfr1.rename(columns={'YEAR (DATE)':'Year', 'DOLLAR TO NAIRA':'Exchange(N/$)'}, inplace=True)\n",
    "dfr1.head()\n"
   ]
  },
  {
   "attachments": {},
   "cell_type": "markdown",
   "metadata": {},
   "source": [
    "### Example 6: "
   ]
  },
  {
   "cell_type": "code",
   "execution_count": 78,
   "metadata": {},
   "outputs": [],
   "source": [
    "# Define a function to remove newline and digit from column\n",
    "def transformer(s):\n",
    "    # Remove newline\n",
    "    result = [t for t in s if re.sub(r\"\\n+\",\"\",t)]\n",
    "    # Remove numbers\n",
    "    no_num = \"\".join([i for i in result if not i.isdigit()])\n",
    "    return no_num\n",
    "\n",
    "\n",
    "# Define function to remove punctuations\n",
    "def remove_punc(txt):\n",
    "    no_punc = [s for s in txt if s not in string.punctuation]\n",
    "    chr = \"\".join([c for c in no_punc])\n",
    "    return chr"
   ]
  },
  {
   "cell_type": "code",
   "execution_count": 75,
   "metadata": {},
   "outputs": [
    {
     "data": {
      "text/plain": [
       "200"
      ]
     },
     "execution_count": 75,
     "metadata": {},
     "output_type": "execute_result"
    }
   ],
   "source": [
    "url = 'https://www.imdb.com/chart/top'\n",
    "\n",
    "response = requests.get(url)\n",
    "\n",
    "# Getting the status code\n",
    "response.status_code"
   ]
  },
  {
   "cell_type": "code",
   "execution_count": 94,
   "metadata": {},
   "outputs": [
    {
     "data": {
      "text/plain": [
       "['Rank & Title', 'IMDb Rating', 'Your Rating']"
      ]
     },
     "execution_count": 94,
     "metadata": {},
     "output_type": "execute_result"
    }
   ],
   "source": [
    "# Instantiate the soup object\n",
    "soup = BeautifulSoup(response.text, 'lxml')\n",
    "\n",
    "# Get the table object\n",
    "table = soup.find('table', class_ = 'chart full-width')\n",
    "\n",
    "# Get the column header\n",
    "col_head = [col.text.strip() for col in table.find_all('th')]\n",
    "del col_head[0]\n",
    "del col_head[-1]\n",
    "col_head"
   ]
  },
  {
   "cell_type": "code",
   "execution_count": 95,
   "metadata": {},
   "outputs": [
    {
     "data": {
      "text/html": [
       "<div>\n",
       "<style scoped>\n",
       "    .dataframe tbody tr th:only-of-type {\n",
       "        vertical-align: middle;\n",
       "    }\n",
       "\n",
       "    .dataframe tbody tr th {\n",
       "        vertical-align: top;\n",
       "    }\n",
       "\n",
       "    .dataframe thead th {\n",
       "        text-align: right;\n",
       "    }\n",
       "</style>\n",
       "<table border=\"1\" class=\"dataframe\">\n",
       "  <thead>\n",
       "    <tr style=\"text-align: right;\">\n",
       "      <th></th>\n",
       "      <th>Rank &amp; Title</th>\n",
       "      <th>IMDb Rating</th>\n",
       "      <th>Your Rating</th>\n",
       "    </tr>\n",
       "  </thead>\n",
       "  <tbody>\n",
       "    <tr>\n",
       "      <th>0</th>\n",
       "      <td>1.\\n      The Shawshank Redemption\\n(1994)</td>\n",
       "      <td>9.2</td>\n",
       "      <td>12345678910 \\n\\n\\n\\nNOT YET RELEASED\\n \\n\\nSeen</td>\n",
       "    </tr>\n",
       "    <tr>\n",
       "      <th>1</th>\n",
       "      <td>2.\\n      The Godfather\\n(1972)</td>\n",
       "      <td>9.2</td>\n",
       "      <td>12345678910 \\n\\n\\n\\nNOT YET RELEASED\\n \\n\\nSeen</td>\n",
       "    </tr>\n",
       "    <tr>\n",
       "      <th>2</th>\n",
       "      <td>3.\\n      The Dark Knight\\n(2008)</td>\n",
       "      <td>9.0</td>\n",
       "      <td>12345678910 \\n\\n\\n\\nNOT YET RELEASED\\n \\n\\nSeen</td>\n",
       "    </tr>\n",
       "    <tr>\n",
       "      <th>3</th>\n",
       "      <td>4.\\n      The Godfather Part II\\n(1974)</td>\n",
       "      <td>9.0</td>\n",
       "      <td>12345678910 \\n\\n\\n\\nNOT YET RELEASED\\n \\n\\nSeen</td>\n",
       "    </tr>\n",
       "    <tr>\n",
       "      <th>4</th>\n",
       "      <td>5.\\n      12 Angry Men\\n(1957)</td>\n",
       "      <td>9.0</td>\n",
       "      <td>12345678910 \\n\\n\\n\\nNOT YET RELEASED\\n \\n\\nSeen</td>\n",
       "    </tr>\n",
       "  </tbody>\n",
       "</table>\n",
       "</div>"
      ],
      "text/plain": [
       "                                 Rank & Title IMDb Rating  \\\n",
       "0  1.\\n      The Shawshank Redemption\\n(1994)         9.2   \n",
       "1             2.\\n      The Godfather\\n(1972)         9.2   \n",
       "2           3.\\n      The Dark Knight\\n(2008)         9.0   \n",
       "3     4.\\n      The Godfather Part II\\n(1974)         9.0   \n",
       "4              5.\\n      12 Angry Men\\n(1957)         9.0   \n",
       "\n",
       "                                       Your Rating  \n",
       "0  12345678910 \\n\\n\\n\\nNOT YET RELEASED\\n \\n\\nSeen  \n",
       "1  12345678910 \\n\\n\\n\\nNOT YET RELEASED\\n \\n\\nSeen  \n",
       "2  12345678910 \\n\\n\\n\\nNOT YET RELEASED\\n \\n\\nSeen  \n",
       "3  12345678910 \\n\\n\\n\\nNOT YET RELEASED\\n \\n\\nSeen  \n",
       "4  12345678910 \\n\\n\\n\\nNOT YET RELEASED\\n \\n\\nSeen  "
      ]
     },
     "execution_count": 95,
     "metadata": {},
     "output_type": "execute_result"
    }
   ],
   "source": [
    "# Put columns to dataframe\n",
    "data_ = pd.DataFrame(columns=col_head)\n",
    "data_\n",
    "\n",
    "# Get the row data\n",
    "for row in table.find_all('tr')[1:]:\n",
    "    obser = [td.text.strip() for td in row.find_all('td')]\n",
    "    # Deleting empty column from the rows\n",
    "    del obser[0] \n",
    "    del obser[-1]\n",
    "    data_.loc[len(data_)] = obser\n",
    "\n",
    "data_.head()"
   ]
  },
  {
   "cell_type": "code",
   "execution_count": 96,
   "metadata": {},
   "outputs": [
    {
     "name": "stderr",
     "output_type": "stream",
     "text": [
      "C:\\Users\\IKECHUKWU\\AppData\\Local\\Temp\\ipykernel_3064\\4060086388.py:2: FutureWarning: In a future version of pandas all arguments of StringMethods.split except for the argument 'pat' will be keyword-only.\n",
      "  data_[['Rank','Title']] = data_['Rank & Title'].str.split('\\n',1,expand=True)\n",
      "C:\\Users\\IKECHUKWU\\AppData\\Local\\Temp\\ipykernel_3064\\4060086388.py:7: FutureWarning: The default value of regex will change from True to False in a future version. In addition, single character regular expressions will *not* be treated as literal strings when regex=True.\n",
      "  data_[\"Rank\"] = data_[\"Rank\"].str.replace(\".\", \"\")\n"
     ]
    },
    {
     "data": {
      "text/html": [
       "<div>\n",
       "<style scoped>\n",
       "    .dataframe tbody tr th:only-of-type {\n",
       "        vertical-align: middle;\n",
       "    }\n",
       "\n",
       "    .dataframe tbody tr th {\n",
       "        vertical-align: top;\n",
       "    }\n",
       "\n",
       "    .dataframe thead th {\n",
       "        text-align: right;\n",
       "    }\n",
       "</style>\n",
       "<table border=\"1\" class=\"dataframe\">\n",
       "  <thead>\n",
       "    <tr style=\"text-align: right;\">\n",
       "      <th></th>\n",
       "      <th>IMDb Rating</th>\n",
       "      <th>Your Rating</th>\n",
       "      <th>Title</th>\n",
       "      <th>Year</th>\n",
       "    </tr>\n",
       "    <tr>\n",
       "      <th>Rank</th>\n",
       "      <th></th>\n",
       "      <th></th>\n",
       "      <th></th>\n",
       "      <th></th>\n",
       "    </tr>\n",
       "  </thead>\n",
       "  <tbody>\n",
       "    <tr>\n",
       "      <th>1</th>\n",
       "      <td>9.2</td>\n",
       "      <td>NOT YET RELEASED Seen</td>\n",
       "      <td>The Shawshank Redemption</td>\n",
       "      <td>1994</td>\n",
       "    </tr>\n",
       "    <tr>\n",
       "      <th>2</th>\n",
       "      <td>9.2</td>\n",
       "      <td>NOT YET RELEASED Seen</td>\n",
       "      <td>The Godfather</td>\n",
       "      <td>1972</td>\n",
       "    </tr>\n",
       "    <tr>\n",
       "      <th>3</th>\n",
       "      <td>9.0</td>\n",
       "      <td>NOT YET RELEASED Seen</td>\n",
       "      <td>The Dark Knight</td>\n",
       "      <td>2008</td>\n",
       "    </tr>\n",
       "    <tr>\n",
       "      <th>4</th>\n",
       "      <td>9.0</td>\n",
       "      <td>NOT YET RELEASED Seen</td>\n",
       "      <td>The Godfather Part II</td>\n",
       "      <td>1974</td>\n",
       "    </tr>\n",
       "    <tr>\n",
       "      <th>5</th>\n",
       "      <td>9.0</td>\n",
       "      <td>NOT YET RELEASED Seen</td>\n",
       "      <td>12 Angry Men</td>\n",
       "      <td>1957</td>\n",
       "    </tr>\n",
       "  </tbody>\n",
       "</table>\n",
       "</div>"
      ],
      "text/plain": [
       "     IMDb Rating             Your Rating                           Title  Year\n",
       "Rank                                                                          \n",
       "1            9.2   NOT YET RELEASED Seen        The Shawshank Redemption  1994\n",
       "2            9.2   NOT YET RELEASED Seen                   The Godfather  1972\n",
       "3            9.0   NOT YET RELEASED Seen                 The Dark Knight  2008\n",
       "4            9.0   NOT YET RELEASED Seen           The Godfather Part II  1974\n",
       "5            9.0   NOT YET RELEASED Seen                    12 Angry Men  1957"
      ]
     },
     "execution_count": 96,
     "metadata": {},
     "output_type": "execute_result"
    }
   ],
   "source": [
    "# Transform messy variables\n",
    "data_[['Rank','Title']] = data_['Rank & Title'].str.split('\\n',1,expand=True)\n",
    "data_.drop(columns='Rank & Title', inplace=True)\n",
    "\n",
    "# Remove newline and digits from column\n",
    "data_[\"Your Rating\"] = data_[\"Your Rating\"].apply(transformer)\n",
    "\n",
    "# Remove full stop from column\n",
    "data_[\"Rank\"] = data_[\"Rank\"].str.replace(\".\", \"\")\n",
    "\n",
    "# Split column into two columns\n",
    "data_[[\"Title\",\"Year\"]] = data_[\"Title\"].str.split(\"\\n\", expand=True)\n",
    "\n",
    "# Remove punctuations from column\n",
    "data_[\"Year\"] = data_[\"Year\"].apply(lambda x: remove_punc(x))\n",
    "\n",
    "# Change the index column\n",
    "data_.set_index(keys=\"Rank\", drop=True, inplace=True)\n",
    "\n",
    "# Investigate dataframe\n",
    "data_.head()\n"
   ]
  },
  {
   "cell_type": "code",
   "execution_count": 97,
   "metadata": {},
   "outputs": [],
   "source": [
    "# Save data\n",
    "data_.to_csv(\"Rotten_tomato.csv\")\n"
   ]
  },
  {
   "cell_type": "code",
   "execution_count": null,
   "metadata": {},
   "outputs": [],
   "source": []
  },
  {
   "cell_type": "code",
   "execution_count": null,
   "metadata": {},
   "outputs": [],
   "source": []
  },
  {
   "cell_type": "code",
   "execution_count": null,
   "metadata": {},
   "outputs": [],
   "source": []
  },
  {
   "attachments": {},
   "cell_type": "markdown",
   "metadata": {},
   "source": [
    "```python\n",
    "def find_max(nums):\n",
    "    max_num = float(\"-inf\") # smaller than all other numbers\n",
    "    for num in nums:\n",
    "        if num > max_num:\n",
    "            max_num = num\n",
    "    return max_num\n",
    "\n",
    "x = [20,1,300,-10,7,350,400,360,9]\n",
    "find_max(x)\n",
    "```"
   ]
  },
  {
   "cell_type": "code",
   "execution_count": null,
   "metadata": {},
   "outputs": [],
   "source": []
  }
 ],
 "metadata": {
  "kernelspec": {
   "display_name": "Python 3 (ipykernel)",
   "language": "python",
   "name": "python3"
  },
  "language_info": {
   "codemirror_mode": {
    "name": "ipython",
    "version": 3
   },
   "file_extension": ".py",
   "mimetype": "text/x-python",
   "name": "python",
   "nbconvert_exporter": "python",
   "pygments_lexer": "ipython3",
   "version": "3.9.15"
  }
 },
 "nbformat": 4,
 "nbformat_minor": 2
}
